{
 "cells": [
  {
   "cell_type": "code",
   "execution_count": 1,
   "metadata": {},
   "outputs": [],
   "source": [
    "from datasets import load_dataset\n",
    "from sentence_transformers import SentenceTransformer, util\n",
    "from transformers import AutoTokenizer, AutoModel\n",
    "import torch\n",
    "from torch import Tensor\n",
    "import pandas as pd\n",
    "import numpy as np\n",
    "from sklearn.metrics.pairwise import cosine_similarity\n",
    "from sklearn.feature_extraction.text import TfidfVectorizer, CountVectorizer\n",
    "import matplotlib.pyplot as plt"
   ]
  },
  {
   "cell_type": "markdown",
   "metadata": {},
   "source": [
    "# Оценка энкодеров по метрике Accuracy@5"
   ]
  },
  {
   "cell_type": "code",
   "execution_count": 2,
   "metadata": {},
   "outputs": [],
   "source": [
    "dataset = load_dataset('medical_questions_pairs')\n",
    "data = dataset['train'].to_pandas()"
   ]
  },
  {
   "cell_type": "code",
   "execution_count": 3,
   "metadata": {},
   "outputs": [
    {
     "name": "stdout",
     "output_type": "stream",
     "text": [
      "Всего вопросов в question_1: 3048\n",
      "Кол-во уникальных вопросов в question_1: 1524\n",
      "Список вариантов, сколько лэйблов может быть у question_1: [2]\n"
     ]
    }
   ],
   "source": [
    "print(f\"Всего вопросов в question_1: {len(data)}\")\n",
    "print(f\"Кол-во уникальных вопросов в question_1: {data['question_1'].nunique()}\")\n",
    "\n",
    "print(f\"Список вариантов, сколько лэйблов может быть у question_1: {data.groupby('question_1').agg(count = ('question_1', 'count'))['count'].unique()}\")"
   ]
  },
  {
   "cell_type": "markdown",
   "metadata": {},
   "source": [
    "У каждого вопроса в question_1 есть ровно два разных лэйбла"
   ]
  },
  {
   "cell_type": "code",
   "execution_count": 4,
   "metadata": {},
   "outputs": [
    {
     "name": "stdout",
     "output_type": "stream",
     "text": [
      "Кол-во уникальных вопросов в question_2: 3043\n",
      "Дублирующиеся записи\n"
     ]
    },
    {
     "data": {
      "text/html": [
       "<div>\n",
       "<style scoped>\n",
       "    .dataframe tbody tr th:only-of-type {\n",
       "        vertical-align: middle;\n",
       "    }\n",
       "\n",
       "    .dataframe tbody tr th {\n",
       "        vertical-align: top;\n",
       "    }\n",
       "\n",
       "    .dataframe thead th {\n",
       "        text-align: right;\n",
       "    }\n",
       "</style>\n",
       "<table border=\"1\" class=\"dataframe\">\n",
       "  <thead>\n",
       "    <tr style=\"text-align: right;\">\n",
       "      <th></th>\n",
       "      <th>dr_id</th>\n",
       "      <th>question_1</th>\n",
       "      <th>question_2</th>\n",
       "      <th>label</th>\n",
       "    </tr>\n",
       "  </thead>\n",
       "  <tbody>\n",
       "    <tr>\n",
       "      <th>72</th>\n",
       "      <td>1</td>\n",
       "      <td>I'm taking anxiety and depression medicine to ...</td>\n",
       "      <td>Can CBT be used to treat anxiety?</td>\n",
       "      <td>0</td>\n",
       "    </tr>\n",
       "    <tr>\n",
       "      <th>107</th>\n",
       "      <td>1</td>\n",
       "      <td>What is the cleanest/safest SSRI for general s...</td>\n",
       "      <td>Why do I have anxiety when I go in an elevator?</td>\n",
       "      <td>0</td>\n",
       "    </tr>\n",
       "    <tr>\n",
       "      <th>313</th>\n",
       "      <td>2</td>\n",
       "      <td>I have been taking my birthcontrol Amethia for...</td>\n",
       "      <td>I missed my pills for 2 days in a row... Can I...</td>\n",
       "      <td>0</td>\n",
       "    </tr>\n",
       "    <tr>\n",
       "      <th>333</th>\n",
       "      <td>2</td>\n",
       "      <td>I messed up my birth control and started a new...</td>\n",
       "      <td>I missed my pills for 2 days in a row... Can I...</td>\n",
       "      <td>0</td>\n",
       "    </tr>\n",
       "    <tr>\n",
       "      <th>374</th>\n",
       "      <td>2</td>\n",
       "      <td>I've had a cold for 1week. I just stopped anti...</td>\n",
       "      <td>How is Strep throat diagnosed? Do I need to se...</td>\n",
       "      <td>0</td>\n",
       "    </tr>\n",
       "  </tbody>\n",
       "</table>\n",
       "</div>"
      ],
      "text/plain": [
       "     dr_id                                         question_1  \\\n",
       "72       1  I'm taking anxiety and depression medicine to ...   \n",
       "107      1  What is the cleanest/safest SSRI for general s...   \n",
       "313      2  I have been taking my birthcontrol Amethia for...   \n",
       "333      2  I messed up my birth control and started a new...   \n",
       "374      2  I've had a cold for 1week. I just stopped anti...   \n",
       "\n",
       "                                            question_2  label  \n",
       "72                   Can CBT be used to treat anxiety?      0  \n",
       "107    Why do I have anxiety when I go in an elevator?      0  \n",
       "313  I missed my pills for 2 days in a row... Can I...      0  \n",
       "333  I missed my pills for 2 days in a row... Can I...      0  \n",
       "374  How is Strep throat diagnosed? Do I need to se...      0  "
      ]
     },
     "execution_count": 4,
     "metadata": {},
     "output_type": "execute_result"
    }
   ],
   "source": [
    "print(f\"Кол-во уникальных вопросов в question_2: {data['question_2'].nunique()}\")\n",
    "# У 4 вопросов из question_2 есть дубли (у одного вопроса два дубля), при этом у всех лэйблы 0, поэтому в оценке точности эти вопросы учитывать не будем\n",
    "print(\"Дублирующиеся записи\")\n",
    "data[~data.index.isin(data[['question_2', 'label']].drop_duplicates().index)]\n"
   ]
  },
  {
   "cell_type": "code",
   "execution_count": 5,
   "metadata": {},
   "outputs": [
    {
     "data": {
      "text/plain": [
       "set()"
      ]
     },
     "execution_count": 5,
     "metadata": {},
     "output_type": "execute_result"
    }
   ],
   "source": [
    "# Проверка, есть ли вопросы, встречающиеся в обоих столбцах.\n",
    "set(data['question_1']) & set(data['question_2'])"
   ]
  },
  {
   "cell_type": "code",
   "execution_count": 156,
   "metadata": {},
   "outputs": [],
   "source": [
    "# Сделаем так, чтобы в столбце question_1 были все предложения. Для question_2 с лэйблом 1 мы также будет искать похожие из общего списка.\n",
    "corpus = pd.concat([data[['question_1', 'question_2', 'label']], data.rename(\n",
    "    columns={'question_1':'question_2', 'question_2':'question_1'})[['question_2', 'question_1', 'label']]]).drop_duplicates().reset_index(drop=True)"
   ]
  },
  {
   "cell_type": "code",
   "execution_count": 155,
   "metadata": {},
   "outputs": [
    {
     "name": "stdout",
     "output_type": "stream",
     "text": [
      "Всего 4567 уникальных вопросов\n",
      "Вопросов, у которых есть label 1: 3048\n"
     ]
    }
   ],
   "source": [
    "unique_questions = corpus['question_1'].unique()\n",
    "label_1_questions = corpus[corpus['label']==1]['question_1'].values\n",
    "print(f\"Всего {len(unique_questions)} уникальных вопросов\")\n",
    "print(f\"Вопросов, у которых есть label 1: {len(label_1_questions)}\")"
   ]
  },
  {
   "cell_type": "markdown",
   "metadata": {},
   "source": [
    "Нужно для каждого из 3048 вопросов найти топ-5 схожих из общего списка 4567 вопросов, не учитывая в общем списке сам вопрос.\n",
    "\n",
    "Нет смысла оценивать вопросы, у которых есть только лэйбл 0, так как точность на таком вопросе всегда будет равна 0."
   ]
  },
  {
   "cell_type": "code",
   "execution_count": 133,
   "metadata": {},
   "outputs": [],
   "source": [
    "# Функция, вычисляющая Accuracy@N\n",
    "def topn_accuracy(cosine_scores_matrix: Tensor, n=5) -> float:\n",
    "    # Первое значение всегда 1, так как сравниваем с этим же предложением, поэтому , берем n+1\n",
    "    _, top_indices = torch.topk(cosine_scores_matrix, k=n+1)\n",
    "    top_indices = top_indices[:,1:]\n",
    "    cnt = 0\n",
    "    for i, top in enumerate(top_indices):\n",
    "        # Текст вопроса\n",
    "        question_1 = label_1_questions[i]\n",
    "        # Список близких вопросов\n",
    "        question_2_list = unique_questions[list(np.array(top))]\n",
    "        # Фильтруем собраный датафрейм по первому вопросу (в столбце 1) и списку вопросов (в столбце 2). Если находится пара с лэйблом 1, то и сумма по лэйблу будет = 1\n",
    "        cnt += corpus[(corpus['question_1']==question_1)&(corpus['question_2'].isin(question_2_list))]['label'].sum()\n",
    "    # Возвращаем долю вопросов, у которых среди подобранных пар есть лэйбл 1\n",
    "    return cnt / len(label_1_questions)\n",
    "\n",
    "metrics = {}"
   ]
  },
  {
   "cell_type": "markdown",
   "metadata": {},
   "source": [
    "# SentenceTransformer(\"all-MiniLM-L6-v2\")"
   ]
  },
  {
   "cell_type": "code",
   "execution_count": 134,
   "metadata": {},
   "outputs": [
    {
     "data": {
      "application/vnd.jupyter.widget-view+json": {
       "model_id": "efe5858cf81f4475a2c423e64d4b6705",
       "version_major": 2,
       "version_minor": 0
      },
      "text/plain": [
       "Batches:   0%|          | 0/96 [00:00<?, ?it/s]"
      ]
     },
     "metadata": {},
     "output_type": "display_data"
    },
    {
     "data": {
      "application/vnd.jupyter.widget-view+json": {
       "model_id": "3552608a19324d3a8a31379ca9c4159f",
       "version_major": 2,
       "version_minor": 0
      },
      "text/plain": [
       "Batches:   0%|          | 0/143 [00:00<?, ?it/s]"
      ]
     },
     "metadata": {},
     "output_type": "display_data"
    }
   ],
   "source": [
    "model = SentenceTransformer(\"all-MiniLM-L6-v2\")\n",
    "embeddings_l1 = model.encode(label_1_questions, show_progress_bar=True)\n",
    "embeddings_unq = model.encode(unique_questions, show_progress_bar=True)\n",
    "\n",
    "cosine_scores = torch.tensor(cosine_similarity(embeddings_l1, embeddings_unq))\n",
    "metrics['all-MiniLM-L6-v2'] = topn_accuracy(cosine_scores)"
   ]
  },
  {
   "cell_type": "code",
   "execution_count": 135,
   "metadata": {},
   "outputs": [
    {
     "data": {
      "text/plain": [
       "{'all-MiniLM-L6-v2': 0.9635826771653543}"
      ]
     },
     "execution_count": 135,
     "metadata": {},
     "output_type": "execute_result"
    }
   ],
   "source": [
    "metrics"
   ]
  },
  {
   "cell_type": "markdown",
   "metadata": {},
   "source": [
    "### То же самое проделаем используя только Pytorch (без батчей)\n"
   ]
  },
  {
   "cell_type": "code",
   "execution_count": 137,
   "metadata": {},
   "outputs": [
    {
     "data": {
      "text/plain": [
       "0.9635826771653543"
      ]
     },
     "execution_count": 137,
     "metadata": {},
     "output_type": "execute_result"
    }
   ],
   "source": [
    "# Получим такой же результат, но фрэймворк SentenceTransformer удобнее и быстрее, не нужно отдельно прописывать разделение на батчи\n",
    "def mean_pooling(model_output, attention_mask):\n",
    "    token_embeddings = model_output[0]\n",
    "    input_mask_expanded = attention_mask.unsqueeze(-1).expand(token_embeddings.size()).float()\n",
    "    sum_embeddings = torch.sum(token_embeddings * input_mask_expanded, 1)\n",
    "    sum_mask = torch.clamp(input_mask_expanded.sum(1), min=1e-9)\n",
    "    return sum_embeddings / sum_mask\n",
    "\n",
    "tokenizer = AutoTokenizer.from_pretrained(\"sentence-transformers/all-MiniLM-L6-v2\")\n",
    "model = AutoModel.from_pretrained(\"sentence-transformers/all-MiniLM-L6-v2\")\n",
    "\n",
    "encoded_input_1 = tokenizer(\n",
    "    list(label_1_questions), padding=True, truncation=True, max_length=128, return_tensors=\"pt\"\n",
    ")\n",
    "encoded_input_2 = tokenizer(\n",
    "    list(unique_questions), padding=True, truncation=True, max_length=128, return_tensors=\"pt\"\n",
    ")\n",
    "\n",
    "with torch.no_grad():\n",
    "    model_output_1 = model(**encoded_input_1)\n",
    "\n",
    "sentence_embeddings_1 = mean_pooling(model_output_1, encoded_input_1[\"attention_mask\"])\n",
    "\n",
    "with torch.no_grad():\n",
    "    model_output_2 = model(**encoded_input_2)\n",
    "\n",
    "sentence_embeddings_2 = mean_pooling(model_output_2, encoded_input_2[\"attention_mask\"])\n",
    "\n",
    "cosine_scores = torch.tensor(cosine_similarity(sentence_embeddings_1, sentence_embeddings_2))\n",
    "pytorch_MiniLM = topn_accuracy(cosine_scores)\n",
    "pytorch_MiniLM"
   ]
  },
  {
   "cell_type": "markdown",
   "metadata": {},
   "source": [
    "Получаем такой же результат. Далее будет использовать SentenceTransformer"
   ]
  },
  {
   "cell_type": "markdown",
   "metadata": {},
   "source": [
    "# SentenceTransformer(\"paraphrase-MiniLM-L6-v2\")"
   ]
  },
  {
   "cell_type": "code",
   "execution_count": 138,
   "metadata": {},
   "outputs": [
    {
     "data": {
      "application/vnd.jupyter.widget-view+json": {
       "model_id": "363eaf62b50444448bd88cea153af489",
       "version_major": 2,
       "version_minor": 0
      },
      "text/plain": [
       "Batches:   0%|          | 0/96 [00:00<?, ?it/s]"
      ]
     },
     "metadata": {},
     "output_type": "display_data"
    },
    {
     "data": {
      "application/vnd.jupyter.widget-view+json": {
       "model_id": "0ab94586c7c7469cbc4b9ecc430e01f4",
       "version_major": 2,
       "version_minor": 0
      },
      "text/plain": [
       "Batches:   0%|          | 0/143 [00:00<?, ?it/s]"
      ]
     },
     "metadata": {},
     "output_type": "display_data"
    }
   ],
   "source": [
    "model = SentenceTransformer(\"paraphrase-MiniLM-L6-v2\")\n",
    "embeddings_l1 = model.encode(label_1_questions, show_progress_bar=True)\n",
    "embeddings_unq = model.encode(unique_questions, show_progress_bar=True)\n",
    "\n",
    "cosine_scores = torch.tensor(cosine_similarity(embeddings_l1, embeddings_unq))\n",
    "metrics['paraphrase-MiniLM-L6-v2'] = topn_accuracy(cosine_scores)"
   ]
  },
  {
   "cell_type": "code",
   "execution_count": 139,
   "metadata": {},
   "outputs": [
    {
     "data": {
      "text/plain": [
       "{'all-MiniLM-L6-v2': 0.9635826771653543,\n",
       " 'paraphrase-MiniLM-L6-v2': 0.9235564304461942}"
      ]
     },
     "execution_count": 139,
     "metadata": {},
     "output_type": "execute_result"
    }
   ],
   "source": [
    "metrics"
   ]
  },
  {
   "cell_type": "markdown",
   "metadata": {},
   "source": [
    "# SentenceTransformer(\"all-mpnet-base-v2\")"
   ]
  },
  {
   "cell_type": "code",
   "execution_count": 140,
   "metadata": {},
   "outputs": [
    {
     "data": {
      "application/vnd.jupyter.widget-view+json": {
       "model_id": "269b92f959594f6eb9cb612c70200bc1",
       "version_major": 2,
       "version_minor": 0
      },
      "text/plain": [
       "Batches:   0%|          | 0/96 [00:00<?, ?it/s]"
      ]
     },
     "metadata": {},
     "output_type": "display_data"
    },
    {
     "data": {
      "application/vnd.jupyter.widget-view+json": {
       "model_id": "e08aa27da3344b5b99fc9e6142ac042c",
       "version_major": 2,
       "version_minor": 0
      },
      "text/plain": [
       "Batches:   0%|          | 0/143 [00:00<?, ?it/s]"
      ]
     },
     "metadata": {},
     "output_type": "display_data"
    }
   ],
   "source": [
    "model = SentenceTransformer(\"all-mpnet-base-v2\")\n",
    "embeddings_l1 = model.encode(label_1_questions, show_progress_bar=True)\n",
    "embeddings_unq = model.encode(unique_questions, show_progress_bar=True)\n",
    "\n",
    "cosine_scores = torch.tensor(cosine_similarity(embeddings_l1, embeddings_unq))\n",
    "metrics['all-mpnet-base-v2'] = topn_accuracy(cosine_scores)"
   ]
  },
  {
   "cell_type": "code",
   "execution_count": 141,
   "metadata": {},
   "outputs": [
    {
     "data": {
      "text/plain": [
       "{'all-MiniLM-L6-v2': 0.9635826771653543,\n",
       " 'paraphrase-MiniLM-L6-v2': 0.9235564304461942,\n",
       " 'all-mpnet-base-v2': 0.9681758530183727}"
      ]
     },
     "execution_count": 141,
     "metadata": {},
     "output_type": "execute_result"
    }
   ],
   "source": [
    "metrics"
   ]
  },
  {
   "cell_type": "markdown",
   "metadata": {},
   "source": [
    "# SentenceTransformer(\"all-MiniLM-L12-v2\")"
   ]
  },
  {
   "cell_type": "code",
   "execution_count": 142,
   "metadata": {},
   "outputs": [
    {
     "data": {
      "application/vnd.jupyter.widget-view+json": {
       "model_id": "45ddc3ee5adf47d0bb1a2686eebe9418",
       "version_major": 2,
       "version_minor": 0
      },
      "text/plain": [
       "Batches:   0%|          | 0/96 [00:00<?, ?it/s]"
      ]
     },
     "metadata": {},
     "output_type": "display_data"
    },
    {
     "data": {
      "application/vnd.jupyter.widget-view+json": {
       "model_id": "fcf5e7226406414cb1879a12d696eab5",
       "version_major": 2,
       "version_minor": 0
      },
      "text/plain": [
       "Batches:   0%|          | 0/143 [00:00<?, ?it/s]"
      ]
     },
     "metadata": {},
     "output_type": "display_data"
    }
   ],
   "source": [
    "model = SentenceTransformer(\"all-MiniLM-L12-v2\")\n",
    "embeddings_l1 = model.encode(label_1_questions, show_progress_bar=True)\n",
    "embeddings_unq = model.encode(unique_questions, show_progress_bar=True)\n",
    "\n",
    "cosine_scores = torch.tensor(cosine_similarity(embeddings_l1, embeddings_unq))\n",
    "metrics['all-MiniLM-L12-v2'] = topn_accuracy(cosine_scores)"
   ]
  },
  {
   "cell_type": "code",
   "execution_count": 143,
   "metadata": {},
   "outputs": [
    {
     "data": {
      "text/plain": [
       "{'all-MiniLM-L6-v2': 0.9635826771653543,\n",
       " 'paraphrase-MiniLM-L6-v2': 0.9235564304461942,\n",
       " 'all-mpnet-base-v2': 0.9681758530183727,\n",
       " 'all-MiniLM-L12-v2': 0.9586614173228346}"
      ]
     },
     "execution_count": 143,
     "metadata": {},
     "output_type": "execute_result"
    }
   ],
   "source": [
    "metrics"
   ]
  },
  {
   "cell_type": "markdown",
   "metadata": {},
   "source": [
    "# TfidfVectorizer"
   ]
  },
  {
   "cell_type": "code",
   "execution_count": 150,
   "metadata": {},
   "outputs": [],
   "source": [
    "# Посчитаем с использованием стоп-слов\n",
    "vectorizer = TfidfVectorizer(stop_words='english')\n",
    "vector_1 = vectorizer.fit_transform(label_1_questions)\n",
    "vector_2 = vectorizer.transform(unique_questions)\n",
    "\n",
    "cosine_scores = torch.tensor(cosine_similarity(vector_1, vector_2))\n",
    "metrics['TfidfVectorizer_stopwords'] = topn_accuracy(cosine_scores)\n",
    "\n",
    "# Посчитаем без использования стоп-слов\n",
    "vectorizer = TfidfVectorizer()\n",
    "vector_1 = vectorizer.fit_transform(label_1_questions)\n",
    "vector_2 = vectorizer.transform(unique_questions)\n",
    "\n",
    "cosine_scores = torch.tensor(cosine_similarity(vector_1, vector_2))\n",
    "metrics['TfidfVectorizer'] = topn_accuracy(cosine_scores)"
   ]
  },
  {
   "cell_type": "code",
   "execution_count": 151,
   "metadata": {},
   "outputs": [
    {
     "data": {
      "text/plain": [
       "{'all-MiniLM-L6-v2': 0.9635826771653543,\n",
       " 'paraphrase-MiniLM-L6-v2': 0.9235564304461942,\n",
       " 'all-mpnet-base-v2': 0.9681758530183727,\n",
       " 'all-MiniLM-L12-v2': 0.9586614173228346,\n",
       " 'TfidfVectorizer_stopwords': 0.8490813648293963,\n",
       " 'TfidfVectorizer': 0.8559711286089239}"
      ]
     },
     "execution_count": 151,
     "metadata": {},
     "output_type": "execute_result"
    }
   ],
   "source": [
    "metrics"
   ]
  },
  {
   "cell_type": "markdown",
   "metadata": {},
   "source": [
    "# CountVectorizer()"
   ]
  },
  {
   "cell_type": "code",
   "execution_count": 152,
   "metadata": {},
   "outputs": [],
   "source": [
    "# Посчитаем с использованием стоп-слов\n",
    "vectorizer = CountVectorizer(stop_words='english')\n",
    "vector_1 = vectorizer.fit_transform(label_1_questions)\n",
    "vector_2 = vectorizer.transform(unique_questions)\n",
    "\n",
    "cosine_scores = torch.tensor(cosine_similarity(vector_1, vector_2))\n",
    "metrics['CountVectorizer_stopwords'] = topn_accuracy(cosine_scores)\n",
    "\n",
    "# Посчитаем без использования стоп-слов\n",
    "vectorizer = CountVectorizer()\n",
    "vector_1 = vectorizer.fit_transform(label_1_questions)\n",
    "vector_2 = vectorizer.transform(unique_questions)\n",
    "\n",
    "cosine_scores = torch.tensor(cosine_similarity(vector_1, vector_2))\n",
    "metrics['CountVectorizer'] = topn_accuracy(cosine_scores)"
   ]
  },
  {
   "cell_type": "code",
   "execution_count": 153,
   "metadata": {},
   "outputs": [
    {
     "data": {
      "text/plain": [
       "{'all-MiniLM-L6-v2': 0.9635826771653543,\n",
       " 'paraphrase-MiniLM-L6-v2': 0.9235564304461942,\n",
       " 'all-mpnet-base-v2': 0.9681758530183727,\n",
       " 'all-MiniLM-L12-v2': 0.9586614173228346,\n",
       " 'TfidfVectorizer_stopwords': 0.8490813648293963,\n",
       " 'TfidfVectorizer': 0.8559711286089239,\n",
       " 'CountVectorizer_stopwords': 0.797244094488189,\n",
       " 'CountVectorizer': 0.5636482939632546}"
      ]
     },
     "execution_count": 153,
     "metadata": {},
     "output_type": "execute_result"
    }
   ],
   "source": [
    "metrics"
   ]
  },
  {
   "cell_type": "markdown",
   "metadata": {},
   "source": [
    "# Итоги"
   ]
  },
  {
   "cell_type": "code",
   "execution_count": 154,
   "metadata": {},
   "outputs": [
    {
     "data": {
      "image/png": "[encoded data removed]",
      "text/plain": [
       "<Figure size 2000x400 with 1 Axes>"
      ]
     },
     "metadata": {},
     "output_type": "display_data"
    }
   ],
   "source": [
    "metrics_sorted = dict(sorted(metrics.items(), key=lambda item: item[1]))\n",
    "plt.figure(figsize=(20, 4))\n",
    "plt.barh(list(metrics_sorted.keys()), list(metrics_sorted.values()))\n",
    "plt.xlabel('Точность')\n",
    "plt.ylabel('Энкодеры')\n",
    "for i, v in enumerate(metrics_sorted.values()):\n",
    "    plt.text(v, i, str(round(v,3)), ha='left', va='center')\n",
    "plt.xlim(0.5)\n",
    "plt.grid()\n",
    "plt.show()"
   ]
  },
  {
   "cell_type": "markdown",
   "metadata": {},
   "source": [
    "Эмбэдинги, полученные на основе токенизаторов предобученных моделей (рассматривались модели, которые обучались на парах предложений) показывают себя заметно лучше классических методов.\n",
    "\n",
    "Разница между лидерами топ-3 подходов минимальная, для приложения буду использовать all-MiniLM-L6-v2, так как она практически не уступает лучшей модели, но при этом является наиболее легковесной и быстрой."
   ]
  }
 ],
 "metadata": {
  "kernelspec": {
   "display_name": ".venv",
   "language": "python",
   "name": "python3"
  },
  "language_info": {
   "codemirror_mode": {
    "name": "ipython",
    "version": 3
   },
   "file_extension": ".py",
   "mimetype": "text/x-python",
   "name": "python",
   "nbconvert_exporter": "python",
   "pygments_lexer": "ipython3",
   "version": "3.10.0"
  }
 },
 "nbformat": 4,
 "nbformat_minor": 2
}
