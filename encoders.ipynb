{
 "cells": [
  {
   "cell_type": "code",
   "execution_count": 115,
   "metadata": {},
   "outputs": [],
   "source": [
    "from datasets import load_dataset\n",
    "from sentence_transformers import SentenceTransformer, util\n",
    "from transformers import AutoTokenizer, AutoModel\n",
    "import torch\n",
    "import pandas as pd\n",
    "import numpy as np\n",
    "from sklearn.metrics.pairwise import cosine_similarity\n",
    "from sklearn.feature_extraction.text import TfidfVectorizer, CountVectorizer\n",
    "import matplotlib.pyplot as plt"
   ]
  },
  {
   "cell_type": "code",
   "execution_count": 99,
   "metadata": {},
   "outputs": [],
   "source": [
    "dataset = load_dataset('medical_questions_pairs')\n",
    "data = dataset['train'].to_pandas()"
   ]
  },
  {
   "cell_type": "code",
   "execution_count": 100,
   "metadata": {},
   "outputs": [],
   "source": [
    "corpus = pd.concat([data[['question_1', 'question_2', 'label']], data.rename(\n",
    "    columns={'question_1':'question_2', 'question_2':'question_1'})[['question_2', 'question_1', 'label']]]).drop_duplicates().reset_index(drop=True)\n",
    "\n",
    "# Диагональная матрица со значениями лейблов\n",
    "labels_diag_matrix = torch.diag(torch.tensor(corpus['label']))\n",
    "# Кол-во пар, помеченных 1\n",
    "cnt_1 = torch.sum(labels_diag_matrix.any(dim=1)).item()"
   ]
  },
  {
   "cell_type": "code",
   "execution_count": 102,
   "metadata": {},
   "outputs": [],
   "source": [
    "metrics = {}\n",
    "# Функция, вычисляющая Accuracy@5\n",
    "def top_n_accuracy(cosine_scores_matrix, labels_diag_matrix, cnt_1, n=3):\n",
    "    # Найти индексы топ-5 значений в каждой строке\n",
    "    _, top_indices = torch.topk(cosine_scores_matrix, k=n)\n",
    "    cnt = 0\n",
    "    for i in range(len(labels_diag_matrix)):\n",
    "        if labels_diag_matrix[i][top_indices[i]].any():\n",
    "            cnt+=1\n",
    "    result = cnt / cnt_1 if cnt_1 > 0 else 0\n",
    "    return result"
   ]
  },
  {
   "cell_type": "markdown",
   "metadata": {},
   "source": [
    "# SentenceTransformer(\"all-MiniLM-L6-v2\")"
   ]
  },
  {
   "cell_type": "code",
   "execution_count": 103,
   "metadata": {},
   "outputs": [
    {
     "data": {
      "application/vnd.jupyter.widget-view+json": {
       "model_id": "47e942a0ff594e158891d56bf38f36b7",
       "version_major": 2,
       "version_minor": 0
      },
      "text/plain": [
       "Batches:   0%|          | 0/191 [00:00<?, ?it/s]"
      ]
     },
     "metadata": {},
     "output_type": "display_data"
    },
    {
     "data": {
      "application/vnd.jupyter.widget-view+json": {
       "model_id": "962021d4da554a5296da03c76b24344f",
       "version_major": 2,
       "version_minor": 0
      },
      "text/plain": [
       "Batches:   0%|          | 0/191 [00:00<?, ?it/s]"
      ]
     },
     "metadata": {},
     "output_type": "display_data"
    }
   ],
   "source": [
    "model = SentenceTransformer(\"all-MiniLM-L6-v2\")\n",
    "embeddings_1 = model.encode(corpus['question_1'], show_progress_bar=True)\n",
    "embeddings_2 = model.encode(corpus['question_2'], show_progress_bar=True)\n",
    "\n",
    "cosine_scores = util.cos_sim(embeddings_1, embeddings_2)\n",
    "metrics['all-MiniLM-L6-v2'] = top_n_accuracy(cosine_scores, labels_diag_matrix, cnt_1, 5)"
   ]
  },
  {
   "cell_type": "code",
   "execution_count": 104,
   "metadata": {},
   "outputs": [
    {
     "data": {
      "text/plain": [
       "{'all-MiniLM-L6-v2': 0.9455380577427821}"
      ]
     },
     "execution_count": 104,
     "metadata": {},
     "output_type": "execute_result"
    }
   ],
   "source": [
    "metrics"
   ]
  },
  {
   "cell_type": "markdown",
   "metadata": {},
   "source": [
    "### То же самое проделаем с Pytorch\n"
   ]
  },
  {
   "cell_type": "code",
   "execution_count": 117,
   "metadata": {},
   "outputs": [
    {
     "data": {
      "text/plain": [
       "0.9455380577427821"
      ]
     },
     "execution_count": 117,
     "metadata": {},
     "output_type": "execute_result"
    }
   ],
   "source": [
    "# Получим такой же результат, но фрэймворк SentenceTransformer удобнее и быстрее, не нужно отдельно прописывать разделение на батчи\n",
    "def mean_pooling(model_output, attention_mask):\n",
    "    token_embeddings = model_output[0]  # First element of model_output contains all token embeddings\n",
    "    input_mask_expanded = attention_mask.unsqueeze(-1).expand(token_embeddings.size()).float()\n",
    "    sum_embeddings = torch.sum(token_embeddings * input_mask_expanded, 1)\n",
    "    sum_mask = torch.clamp(input_mask_expanded.sum(1), min=1e-9)\n",
    "    return sum_embeddings / sum_mask\n",
    "\n",
    "\n",
    "tokenizer = AutoTokenizer.from_pretrained(\"sentence-transformers/all-MiniLM-L6-v2\")\n",
    "model = AutoModel.from_pretrained(\"sentence-transformers/all-MiniLM-L6-v2\")\n",
    "\n",
    "# Tokenize sentences\n",
    "encoded_input_1 = tokenizer(\n",
    "    list(corpus['question_1']), padding=True, truncation=True, max_length=128, return_tensors=\"pt\"\n",
    ")\n",
    "encoded_input_2 = tokenizer(\n",
    "    list(corpus['question_2']), padding=True, truncation=True, max_length=128, return_tensors=\"pt\"\n",
    ")\n",
    "\n",
    "with torch.no_grad():\n",
    "    model_output_1 = model(**encoded_input_1)\n",
    "\n",
    "sentence_embeddings_1 = mean_pooling(model_output_1, encoded_input_1[\"attention_mask\"])\n",
    "\n",
    "with torch.no_grad():\n",
    "    model_output_2 = model(**encoded_input_2)\n",
    "\n",
    "sentence_embeddings_2 = mean_pooling(model_output_2, encoded_input_2[\"attention_mask\"])\n",
    "\n",
    "cosine_scores = util.cos_sim(sentence_embeddings_1, sentence_embeddings_2)\n",
    "pytorch_MiniLM = top_n_accuracy(cosine_scores, labels_diag_matrix, cnt_1, 5)\n",
    "pytorch_MiniLM"
   ]
  },
  {
   "cell_type": "markdown",
   "metadata": {},
   "source": [
    "# SentenceTransformer(\"paraphrase-MiniLM-L6-v2\")"
   ]
  },
  {
   "cell_type": "code",
   "execution_count": 105,
   "metadata": {},
   "outputs": [
    {
     "data": {
      "application/vnd.jupyter.widget-view+json": {
       "model_id": "fd039f676d014a4e96b1f2f1f5bf2314",
       "version_major": 2,
       "version_minor": 0
      },
      "text/plain": [
       "Batches:   0%|          | 0/191 [00:00<?, ?it/s]"
      ]
     },
     "metadata": {},
     "output_type": "display_data"
    },
    {
     "data": {
      "application/vnd.jupyter.widget-view+json": {
       "model_id": "b0784549fa1c48faa89a97e31260fdbf",
       "version_major": 2,
       "version_minor": 0
      },
      "text/plain": [
       "Batches:   0%|          | 0/191 [00:00<?, ?it/s]"
      ]
     },
     "metadata": {},
     "output_type": "display_data"
    }
   ],
   "source": [
    "model = SentenceTransformer(\"paraphrase-MiniLM-L6-v2\")\n",
    "embeddings_1 = model.encode(corpus['question_1'], show_progress_bar=True)\n",
    "embeddings_2 = model.encode(corpus['question_2'], show_progress_bar=True)\n",
    "\n",
    "cosine_scores = util.cos_sim(embeddings_1, embeddings_2)\n",
    "metrics['paraphrase-MiniLM-L6-v2'] = top_n_accuracy(cosine_scores, labels_diag_matrix, cnt_1, 5)"
   ]
  },
  {
   "cell_type": "code",
   "execution_count": 7,
   "metadata": {},
   "outputs": [
    {
     "data": {
      "text/plain": [
       "{'all-MiniLM-L6-v2': 0.979002624671916,\n",
       " 'paraphrase-MiniLM-L6-v2': 0.949475065616798}"
      ]
     },
     "execution_count": 7,
     "metadata": {},
     "output_type": "execute_result"
    }
   ],
   "source": [
    "metrics"
   ]
  },
  {
   "cell_type": "markdown",
   "metadata": {},
   "source": [
    "# SentenceTransformer(\"all-mpnet-base-v2\")"
   ]
  },
  {
   "cell_type": "code",
   "execution_count": 106,
   "metadata": {},
   "outputs": [
    {
     "data": {
      "application/vnd.jupyter.widget-view+json": {
       "model_id": "ac8f19ff52da4d5489f56d2734a949f8",
       "version_major": 2,
       "version_minor": 0
      },
      "text/plain": [
       "Batches:   0%|          | 0/191 [00:00<?, ?it/s]"
      ]
     },
     "metadata": {},
     "output_type": "display_data"
    },
    {
     "data": {
      "application/vnd.jupyter.widget-view+json": {
       "model_id": "0f043525091642e5a8076460738ba635",
       "version_major": 2,
       "version_minor": 0
      },
      "text/plain": [
       "Batches:   0%|          | 0/191 [00:00<?, ?it/s]"
      ]
     },
     "metadata": {},
     "output_type": "display_data"
    }
   ],
   "source": [
    "model = SentenceTransformer(\"all-mpnet-base-v2\")\n",
    "embeddings_1 = model.encode(corpus['question_1'], show_progress_bar=True)\n",
    "embeddings_2 = model.encode(corpus['question_2'], show_progress_bar=True)\n",
    "\n",
    "cosine_scores = util.cos_sim(embeddings_1, embeddings_2)\n",
    "metrics['all-mpnet-base-v2'] = top_n_accuracy(cosine_scores, labels_diag_matrix, cnt_1, 5)"
   ]
  },
  {
   "cell_type": "code",
   "execution_count": 107,
   "metadata": {},
   "outputs": [
    {
     "data": {
      "text/plain": [
       "{'all-MiniLM-L6-v2': 0.9455380577427821,\n",
       " 'paraphrase-MiniLM-L6-v2': 0.8930446194225722,\n",
       " 'all-mpnet-base-v2': 0.9422572178477691}"
      ]
     },
     "execution_count": 107,
     "metadata": {},
     "output_type": "execute_result"
    }
   ],
   "source": [
    "metrics"
   ]
  },
  {
   "cell_type": "markdown",
   "metadata": {},
   "source": [
    "# SentenceTransformer(\"all-MiniLM-L12-v2\")"
   ]
  },
  {
   "cell_type": "code",
   "execution_count": 108,
   "metadata": {},
   "outputs": [
    {
     "data": {
      "application/vnd.jupyter.widget-view+json": {
       "model_id": "206b8807812c4f9a889b3f40b66c5e7d",
       "version_major": 2,
       "version_minor": 0
      },
      "text/plain": [
       "Batches:   0%|          | 0/191 [00:00<?, ?it/s]"
      ]
     },
     "metadata": {},
     "output_type": "display_data"
    },
    {
     "data": {
      "application/vnd.jupyter.widget-view+json": {
       "model_id": "46d6f6dde5e841c394ac60ab6314d09d",
       "version_major": 2,
       "version_minor": 0
      },
      "text/plain": [
       "Batches:   0%|          | 0/191 [00:00<?, ?it/s]"
      ]
     },
     "metadata": {},
     "output_type": "display_data"
    }
   ],
   "source": [
    "model = SentenceTransformer(\"all-MiniLM-L12-v2\")\n",
    "embeddings_1 = model.encode(corpus['question_1'], show_progress_bar=True)\n",
    "embeddings_2 = model.encode(corpus['question_2'], show_progress_bar=True)\n",
    "\n",
    "cosine_scores = util.cos_sim(embeddings_1, embeddings_2)\n",
    "metrics['all-MiniLM-L12-v2'] = top_n_accuracy(cosine_scores, labels_diag_matrix, cnt_1, 5)"
   ]
  },
  {
   "cell_type": "code",
   "execution_count": 109,
   "metadata": {},
   "outputs": [
    {
     "data": {
      "text/plain": [
       "{'all-MiniLM-L6-v2': 0.9455380577427821,\n",
       " 'paraphrase-MiniLM-L6-v2': 0.8930446194225722,\n",
       " 'all-mpnet-base-v2': 0.9422572178477691,\n",
       " 'all-MiniLM-L12-v2': 0.9373359580052494}"
      ]
     },
     "execution_count": 109,
     "metadata": {},
     "output_type": "execute_result"
    }
   ],
   "source": [
    "metrics"
   ]
  },
  {
   "cell_type": "markdown",
   "metadata": {},
   "source": [
    "# TfidfVectorizer"
   ]
  },
  {
   "cell_type": "code",
   "execution_count": 110,
   "metadata": {},
   "outputs": [],
   "source": [
    "vectorizer = TfidfVectorizer(stop_words='english')\n",
    "vector_1 = vectorizer.fit_transform(corpus['question_1'])\n",
    "vector_2 = vectorizer.transform(corpus['question_2'])\n",
    "\n",
    "cosine_scores = torch.tensor(cosine_similarity(vector_1, vector_2))\n",
    "metrics['TfidfVectorizer_stopwords'] = top_n_accuracy(cosine_scores, labels_diag_matrix, cnt_1, 5)\n",
    "\n",
    "vectorizer = TfidfVectorizer()\n",
    "vector_1 = vectorizer.fit_transform(corpus['question_1'])\n",
    "vector_2 = vectorizer.transform(corpus['question_2'])\n",
    "\n",
    "cosine_scores = torch.tensor(cosine_similarity(vector_1, vector_2))\n",
    "metrics['TfidfVectorizer'] = top_n_accuracy(cosine_scores, labels_diag_matrix, cnt_1, 5)"
   ]
  },
  {
   "cell_type": "code",
   "execution_count": 111,
   "metadata": {},
   "outputs": [
    {
     "data": {
      "text/plain": [
       "{'all-MiniLM-L6-v2': 0.9455380577427821,\n",
       " 'paraphrase-MiniLM-L6-v2': 0.8930446194225722,\n",
       " 'all-mpnet-base-v2': 0.9422572178477691,\n",
       " 'all-MiniLM-L12-v2': 0.9373359580052494,\n",
       " 'TfidfVectorizer_stopwords': 0.8143044619422573,\n",
       " 'TfidfVectorizer': 0.8116797900262467}"
      ]
     },
     "execution_count": 111,
     "metadata": {},
     "output_type": "execute_result"
    }
   ],
   "source": [
    "metrics"
   ]
  },
  {
   "cell_type": "markdown",
   "metadata": {},
   "source": [
    "# CountVectorizer()"
   ]
  },
  {
   "cell_type": "code",
   "execution_count": 112,
   "metadata": {},
   "outputs": [],
   "source": [
    "vectorizer = CountVectorizer(stop_words='english')\n",
    "vector_1 = vectorizer.fit_transform(corpus['question_1'])\n",
    "vector_2 = vectorizer.transform(corpus['question_2'])\n",
    "\n",
    "cosine_scores = torch.tensor(cosine_similarity(vector_1, vector_2))\n",
    "metrics['CountVectorizer_stopwords'] = top_n_accuracy(cosine_scores, labels_diag_matrix, cnt_1, 5)\n",
    "\n",
    "vectorizer = CountVectorizer()\n",
    "vector_1 = vectorizer.fit_transform(corpus['question_1'])\n",
    "vector_2 = vectorizer.transform(corpus['question_2'])\n",
    "\n",
    "cosine_scores = torch.tensor(cosine_similarity(vector_1, vector_2))\n",
    "metrics['CountVectorizer'] = top_n_accuracy(cosine_scores, labels_diag_matrix, cnt_1, 5)"
   ]
  },
  {
   "cell_type": "code",
   "execution_count": 113,
   "metadata": {},
   "outputs": [
    {
     "data": {
      "text/plain": [
       "{'all-MiniLM-L6-v2': 0.9455380577427821,\n",
       " 'paraphrase-MiniLM-L6-v2': 0.8930446194225722,\n",
       " 'all-mpnet-base-v2': 0.9422572178477691,\n",
       " 'all-MiniLM-L12-v2': 0.9373359580052494,\n",
       " 'TfidfVectorizer_stopwords': 0.8143044619422573,\n",
       " 'TfidfVectorizer': 0.8116797900262467,\n",
       " 'CountVectorizer_stopwords': 0.7536089238845144,\n",
       " 'CountVectorizer': 0.5193569553805775}"
      ]
     },
     "execution_count": 113,
     "metadata": {},
     "output_type": "execute_result"
    }
   ],
   "source": [
    "metrics"
   ]
  },
  {
   "cell_type": "markdown",
   "metadata": {},
   "source": [
    "# Итоги"
   ]
  },
  {
   "cell_type": "code",
   "execution_count": 114,
   "metadata": {},
   "outputs": [
    {
     "data": {
      "image/png": "[encoded data removed]",
      "text/plain": [
       "<Figure size 2000x400 with 1 Axes>"
      ]
     },
     "metadata": {},
     "output_type": "display_data"
    }
   ],
   "source": [
    "metrics_sorted = dict(sorted(metrics.items(), key=lambda item: item[1]))\n",
    "plt.figure(figsize=(20, 4))\n",
    "plt.barh(list(metrics_sorted.keys()), list(metrics_sorted.values()))\n",
    "plt.xlabel('Точность')\n",
    "plt.ylabel('Энкодеры')\n",
    "for i, v in enumerate(metrics_sorted.values()):\n",
    "    plt.text(v, i, str(round(v,3)), ha='left', va='center')\n",
    "plt.xlim(0.5)\n",
    "plt.grid()\n",
    "plt.show()"
   ]
  }
 ],
 "metadata": {
  "kernelspec": {
   "display_name": ".venv",
   "language": "python",
   "name": "python3"
  },
  "language_info": {
   "codemirror_mode": {
    "name": "ipython",
    "version": 3
   },
   "file_extension": ".py",
   "mimetype": "text/x-python",
   "name": "python",
   "nbconvert_exporter": "python",
   "pygments_lexer": "ipython3",
   "version": "3.10.0"
  }
 },
 "nbformat": 4,
 "nbformat_minor": 2
}
