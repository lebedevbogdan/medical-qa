{
 "cells": [
  {
   "cell_type": "code",
   "execution_count": 143,
   "metadata": {},
   "outputs": [],
   "source": [
    "from datasets import load_dataset\n",
    "from sentence_transformers import SentenceTransformer, util\n",
    "from transformers import AutoTokenizer, AutoModel\n",
    "import torch\n",
    "from torch import Tensor\n",
    "import pandas as pd\n",
    "import numpy as np\n",
    "from sklearn.metrics.pairwise import cosine_similarity\n",
    "from sklearn.feature_extraction.text import TfidfVectorizer, CountVectorizer\n",
    "import matplotlib.pyplot as plt"
   ]
  },
  {
   "cell_type": "markdown",
   "metadata": {},
   "source": [
    "# Оценка энкодеров по метрике Accuracy@5"
   ]
  },
  {
   "cell_type": "code",
   "execution_count": 2,
   "metadata": {},
   "outputs": [],
   "source": [
    "dataset = load_dataset('medical_questions_pairs')\n",
    "data = dataset['train'].to_pandas()"
   ]
  },
  {
   "cell_type": "code",
   "execution_count": 50,
   "metadata": {},
   "outputs": [
    {
     "name": "stdout",
     "output_type": "stream",
     "text": [
      "Всего вопросов в question_1: 3048\n",
      "Кол-во уникальных вопросов в question_1: 1524\n",
      "Список вариантов, сколько лэйблов может быть у question_1: [2]\n"
     ]
    }
   ],
   "source": [
    "print(f\"Всего вопросов в question_1: {len(data)}\")\n",
    "print(f\"Кол-во уникальных вопросов в question_1: {data['question_1'].nunique()}\")\n",
    "# У каждого вопроса в question_1 есть ровно два разных лэйбла\n",
    "print(f\"Список вариантов, сколько лэйблов может быть у question_1: {data.groupby('question_1').agg(count = ('question_1', 'count'))['count'].unique()}\")"
   ]
  },
  {
   "cell_type": "code",
   "execution_count": 44,
   "metadata": {},
   "outputs": [
    {
     "name": "stdout",
     "output_type": "stream",
     "text": [
      "Кол-во уникальных вопросов в question_2: 3043\n",
      "Дублирующиеся записи\n"
     ]
    },
    {
     "data": {
      "text/html": [
       "<div>\n",
       "<style scoped>\n",
       "    .dataframe tbody tr th:only-of-type {\n",
       "        vertical-align: middle;\n",
       "    }\n",
       "\n",
       "    .dataframe tbody tr th {\n",
       "        vertical-align: top;\n",
       "    }\n",
       "\n",
       "    .dataframe thead th {\n",
       "        text-align: right;\n",
       "    }\n",
       "</style>\n",
       "<table border=\"1\" class=\"dataframe\">\n",
       "  <thead>\n",
       "    <tr style=\"text-align: right;\">\n",
       "      <th></th>\n",
       "      <th>dr_id</th>\n",
       "      <th>question_1</th>\n",
       "      <th>question_2</th>\n",
       "      <th>label</th>\n",
       "    </tr>\n",
       "  </thead>\n",
       "  <tbody>\n",
       "    <tr>\n",
       "      <th>72</th>\n",
       "      <td>1</td>\n",
       "      <td>I'm taking anxiety and depression medicine to ...</td>\n",
       "      <td>Can CBT be used to treat anxiety?</td>\n",
       "      <td>0</td>\n",
       "    </tr>\n",
       "    <tr>\n",
       "      <th>107</th>\n",
       "      <td>1</td>\n",
       "      <td>What is the cleanest/safest SSRI for general s...</td>\n",
       "      <td>Why do I have anxiety when I go in an elevator?</td>\n",
       "      <td>0</td>\n",
       "    </tr>\n",
       "    <tr>\n",
       "      <th>313</th>\n",
       "      <td>2</td>\n",
       "      <td>I have been taking my birthcontrol Amethia for...</td>\n",
       "      <td>I missed my pills for 2 days in a row... Can I...</td>\n",
       "      <td>0</td>\n",
       "    </tr>\n",
       "    <tr>\n",
       "      <th>333</th>\n",
       "      <td>2</td>\n",
       "      <td>I messed up my birth control and started a new...</td>\n",
       "      <td>I missed my pills for 2 days in a row... Can I...</td>\n",
       "      <td>0</td>\n",
       "    </tr>\n",
       "    <tr>\n",
       "      <th>374</th>\n",
       "      <td>2</td>\n",
       "      <td>I've had a cold for 1week. I just stopped anti...</td>\n",
       "      <td>How is Strep throat diagnosed? Do I need to se...</td>\n",
       "      <td>0</td>\n",
       "    </tr>\n",
       "  </tbody>\n",
       "</table>\n",
       "</div>"
      ],
      "text/plain": [
       "     dr_id                                         question_1  \\\n",
       "72       1  I'm taking anxiety and depression medicine to ...   \n",
       "107      1  What is the cleanest/safest SSRI for general s...   \n",
       "313      2  I have been taking my birthcontrol Amethia for...   \n",
       "333      2  I messed up my birth control and started a new...   \n",
       "374      2  I've had a cold for 1week. I just stopped anti...   \n",
       "\n",
       "                                            question_2  label  \n",
       "72                   Can CBT be used to treat anxiety?      0  \n",
       "107    Why do I have anxiety when I go in an elevator?      0  \n",
       "313  I missed my pills for 2 days in a row... Can I...      0  \n",
       "333  I missed my pills for 2 days in a row... Can I...      0  \n",
       "374  How is Strep throat diagnosed? Do I need to se...      0  "
      ]
     },
     "execution_count": 44,
     "metadata": {},
     "output_type": "execute_result"
    }
   ],
   "source": [
    "print(f\"Кол-во уникальных вопросов в question_2: {data['question_2'].nunique()}\")\n",
    "# У 4 вопросов из question_2 есть дубли (у одного вопроса два дубля), при этом у всех дэйблы 0, поэтому в оценке точности эти вопросы учитывать не будем\n",
    "print(\"Дублирующиеся записи\")\n",
    "data[~data.index.isin(data[['question_2', 'label']].drop_duplicates().index)]\n"
   ]
  },
  {
   "cell_type": "code",
   "execution_count": 49,
   "metadata": {},
   "outputs": [
    {
     "data": {
      "text/plain": [
       "set()"
      ]
     },
     "execution_count": 49,
     "metadata": {},
     "output_type": "execute_result"
    }
   ],
   "source": [
    "# Проверка, есть ли вопросы, встречающиеся в обоих столбцах.\n",
    "set(data['question_1']) & set(data['question_2'])"
   ]
  },
  {
   "cell_type": "code",
   "execution_count": 188,
   "metadata": {},
   "outputs": [
    {
     "name": "stdout",
     "output_type": "stream",
     "text": [
      "<class 'pandas.core.frame.DataFrame'>\n",
      "RangeIndex: 6096 entries, 0 to 6095\n",
      "Data columns (total 3 columns):\n",
      " #   Column      Non-Null Count  Dtype \n",
      "---  ------      --------------  ----- \n",
      " 0   question_1  6096 non-null   object\n",
      " 1   question_2  6096 non-null   object\n",
      " 2   label       6096 non-null   int64 \n",
      "dtypes: int64(1), object(2)\n",
      "memory usage: 143.0+ KB\n"
     ]
    }
   ],
   "source": [
    "# Сделаем так, чтобы в одном столбце были все предложения\n",
    "corpus = pd.concat([data[['question_1', 'question_2', 'label']], data.rename(\n",
    "    columns={'question_1':'question_2', 'question_2':'question_1'})[['question_2', 'question_1', 'label']]]).drop_duplicates().reset_index(drop=True)\n",
    "corpus.info()"
   ]
  },
  {
   "cell_type": "code",
   "execution_count": 157,
   "metadata": {},
   "outputs": [],
   "source": [
    "# Диагональная матрица со значениями лейблов\n",
    "labels_diag_matrix = torch.diag(torch.tensor(corpus['label']))\n",
    "# Кол-во пар, помеченных 1\n",
    "cnt_ones = corpus['label'].sum()\n",
    "# Индексы, строки которых помечены label = 1\n",
    "# В оценке точности нужно использовать только те вопросы, у которых есть лэйбл 1\n",
    "indexes_ones = list(corpus.query(\"label == 1\").index)\n",
    "\n",
    "# Словарь со значениями метрики для разных моделей\n",
    "metrics = {}"
   ]
  },
  {
   "cell_type": "code",
   "execution_count": 158,
   "metadata": {},
   "outputs": [],
   "source": [
    "# Функция, вычисляющая Accuracy@5\n",
    "def top_n_accuracy(cosine_scores_matrix: Tensor, labels_diag_matrix:Tensor, cnt_ones:int, indexes_ones:list, n=5) -> float:\n",
    "    # Найти индексы топ-5 значений в каждой строке\n",
    "    _, top_indices = torch.topk(cosine_scores_matrix, k=n)\n",
    "    cnt = 0\n",
    "    for i in indexes_ones:\n",
    "        if labels_diag_matrix[i][top_indices[i]].any():\n",
    "            cnt += 1\n",
    "    result = cnt / cnt_ones if cnt_ones > 0 else 0\n",
    "    return result"
   ]
  },
  {
   "cell_type": "code",
   "execution_count": 159,
   "metadata": {},
   "outputs": [],
   "source": [
    "# Функция, считающая косинусную схожесть и возвращающая результат в формате Тензора\n",
    "def cos_sim(vec_1, vec_2) -> Tensor:\n",
    "    # По умолчанию util.cos_sim возвращает тензор, но не срабатывает c разреженными sparse матрицами (scipy.sparse._csr.csr_matrix), которые получаются в tf-idf и bag-of-words\n",
    "    # cosine_scores = util.cos_sim(embeddings_1, embeddings_2)\n",
    "\n",
    "    # Воспользуемся sklearn\n",
    "    cosine_scores = torch.tensor(cosine_similarity(vec_1, vec_2))\n",
    "    # При сравнении одинаковых вопросов схожесть будет равна 1. Чтобы не учитывать такие записи, присвоим им схожесть 0\n",
    "    cosine_scores[np.round(cosine_scores,4) == 1.0000] = 0\n",
    "    return cosine_scores"
   ]
  },
  {
   "cell_type": "markdown",
   "metadata": {},
   "source": [
    "# SentenceTransformer(\"all-MiniLM-L6-v2\")"
   ]
  },
  {
   "cell_type": "code",
   "execution_count": 171,
   "metadata": {},
   "outputs": [
    {
     "data": {
      "application/vnd.jupyter.widget-view+json": {
       "model_id": "8d45be854de14cf2a4070de9ed2a0546",
       "version_major": 2,
       "version_minor": 0
      },
      "text/plain": [
       "Batches:   0%|          | 0/191 [00:00<?, ?it/s]"
      ]
     },
     "metadata": {},
     "output_type": "display_data"
    },
    {
     "data": {
      "application/vnd.jupyter.widget-view+json": {
       "model_id": "5ac5591364d446aea0b4019bb4c54cbd",
       "version_major": 2,
       "version_minor": 0
      },
      "text/plain": [
       "Batches:   0%|          | 0/191 [00:00<?, ?it/s]"
      ]
     },
     "metadata": {},
     "output_type": "display_data"
    }
   ],
   "source": [
    "model = SentenceTransformer(\"all-MiniLM-L6-v2\")\n",
    "embeddings_1 = model.encode(corpus['question_1'], show_progress_bar=True)\n",
    "embeddings_2 = model.encode(corpus['question_2'], show_progress_bar=True)\n",
    "\n",
    "cosine_scores = cos_sim(embeddings_1, embeddings_2)\n",
    "metrics['all-MiniLM-L6-v2'] = top_n_accuracy(cosine_scores, labels_diag_matrix, cnt_ones, indexes_ones)"
   ]
  },
  {
   "cell_type": "code",
   "execution_count": 172,
   "metadata": {},
   "outputs": [
    {
     "data": {
      "text/plain": [
       "{'all-MiniLM-L6-v2': 0.9560367454068242}"
      ]
     },
     "execution_count": 172,
     "metadata": {},
     "output_type": "execute_result"
    }
   ],
   "source": [
    "metrics"
   ]
  },
  {
   "cell_type": "markdown",
   "metadata": {},
   "source": [
    "### То же самое проделаем с Pytorch\n"
   ]
  },
  {
   "cell_type": "code",
   "execution_count": 174,
   "metadata": {},
   "outputs": [
    {
     "data": {
      "text/plain": [
       "0.9560367454068242"
      ]
     },
     "execution_count": 174,
     "metadata": {},
     "output_type": "execute_result"
    }
   ],
   "source": [
    "# Получим такой же результат, но фрэймворк SentenceTransformer удобнее и быстрее, не нужно отдельно прописывать разделение на батчи\n",
    "def mean_pooling(model_output, attention_mask):\n",
    "    token_embeddings = model_output[0]  # First element of model_output contains all token embeddings\n",
    "    input_mask_expanded = attention_mask.unsqueeze(-1).expand(token_embeddings.size()).float()\n",
    "    sum_embeddings = torch.sum(token_embeddings * input_mask_expanded, 1)\n",
    "    sum_mask = torch.clamp(input_mask_expanded.sum(1), min=1e-9)\n",
    "    return sum_embeddings / sum_mask\n",
    "\n",
    "tokenizer = AutoTokenizer.from_pretrained(\"sentence-transformers/all-MiniLM-L6-v2\")\n",
    "model = AutoModel.from_pretrained(\"sentence-transformers/all-MiniLM-L6-v2\")\n",
    "\n",
    "# Tokenize sentences\n",
    "encoded_input_1 = tokenizer(\n",
    "    list(corpus['question_1']), padding=True, truncation=True, max_length=128, return_tensors=\"pt\"\n",
    ")\n",
    "encoded_input_2 = tokenizer(\n",
    "    list(corpus['question_2']), padding=True, truncation=True, max_length=128, return_tensors=\"pt\"\n",
    ")\n",
    "\n",
    "with torch.no_grad():\n",
    "    model_output_1 = model(**encoded_input_1)\n",
    "\n",
    "sentence_embeddings_1 = mean_pooling(model_output_1, encoded_input_1[\"attention_mask\"])\n",
    "\n",
    "with torch.no_grad():\n",
    "    model_output_2 = model(**encoded_input_2)\n",
    "\n",
    "sentence_embeddings_2 = mean_pooling(model_output_2, encoded_input_2[\"attention_mask\"])\n",
    "\n",
    "cosine_scores = cos_sim(sentence_embeddings_1, sentence_embeddings_2)\n",
    "pytorch_MiniLM = top_n_accuracy(cosine_scores, labels_diag_matrix, cnt_ones, indexes_ones)\n",
    "pytorch_MiniLM"
   ]
  },
  {
   "cell_type": "markdown",
   "metadata": {},
   "source": [
    "# SentenceTransformer(\"paraphrase-MiniLM-L6-v2\")"
   ]
  },
  {
   "cell_type": "code",
   "execution_count": 175,
   "metadata": {},
   "outputs": [
    {
     "data": {
      "application/vnd.jupyter.widget-view+json": {
       "model_id": "125a8868ba3a4b2889d0f58235424ae3",
       "version_major": 2,
       "version_minor": 0
      },
      "text/plain": [
       "Batches:   0%|          | 0/191 [00:00<?, ?it/s]"
      ]
     },
     "metadata": {},
     "output_type": "display_data"
    },
    {
     "data": {
      "application/vnd.jupyter.widget-view+json": {
       "model_id": "7132fb552505444ba6a18f44822b53de",
       "version_major": 2,
       "version_minor": 0
      },
      "text/plain": [
       "Batches:   0%|          | 0/191 [00:00<?, ?it/s]"
      ]
     },
     "metadata": {},
     "output_type": "display_data"
    }
   ],
   "source": [
    "model = SentenceTransformer(\"paraphrase-MiniLM-L6-v2\")\n",
    "embeddings_1 = model.encode(corpus['question_1'], show_progress_bar=True)\n",
    "embeddings_2 = model.encode(corpus['question_2'], show_progress_bar=True)\n",
    "\n",
    "cosine_scores = cos_sim(embeddings_1, embeddings_2)\n",
    "metrics['paraphrase-MiniLM-L6-v2'] = top_n_accuracy(cosine_scores, labels_diag_matrix, cnt_ones, indexes_ones)"
   ]
  },
  {
   "cell_type": "code",
   "execution_count": 177,
   "metadata": {},
   "outputs": [
    {
     "data": {
      "text/plain": [
       "{'all-MiniLM-L6-v2': 0.9560367454068242,\n",
       " 'paraphrase-MiniLM-L6-v2': 0.9137139107611548}"
      ]
     },
     "execution_count": 177,
     "metadata": {},
     "output_type": "execute_result"
    }
   ],
   "source": [
    "metrics"
   ]
  },
  {
   "cell_type": "markdown",
   "metadata": {},
   "source": [
    "# SentenceTransformer(\"all-mpnet-base-v2\")"
   ]
  },
  {
   "cell_type": "code",
   "execution_count": 178,
   "metadata": {},
   "outputs": [
    {
     "data": {
      "application/vnd.jupyter.widget-view+json": {
       "model_id": "146e6ccfdab74d4393a62afe7a9524b0",
       "version_major": 2,
       "version_minor": 0
      },
      "text/plain": [
       "Batches:   0%|          | 0/191 [00:00<?, ?it/s]"
      ]
     },
     "metadata": {},
     "output_type": "display_data"
    },
    {
     "data": {
      "application/vnd.jupyter.widget-view+json": {
       "model_id": "01146931297c45418c719e00d1ea4a86",
       "version_major": 2,
       "version_minor": 0
      },
      "text/plain": [
       "Batches:   0%|          | 0/191 [00:00<?, ?it/s]"
      ]
     },
     "metadata": {},
     "output_type": "display_data"
    }
   ],
   "source": [
    "model = SentenceTransformer(\"all-mpnet-base-v2\")\n",
    "embeddings_1 = model.encode(corpus['question_1'], show_progress_bar=True)\n",
    "embeddings_2 = model.encode(corpus['question_2'], show_progress_bar=True)\n",
    "\n",
    "cosine_scores = cos_sim(embeddings_1, embeddings_2)\n",
    "metrics['all-mpnet-base-v2'] = top_n_accuracy(cosine_scores, labels_diag_matrix, cnt_ones, indexes_ones)"
   ]
  },
  {
   "cell_type": "code",
   "execution_count": 179,
   "metadata": {},
   "outputs": [
    {
     "data": {
      "text/plain": [
       "{'all-MiniLM-L6-v2': 0.9560367454068242,\n",
       " 'paraphrase-MiniLM-L6-v2': 0.9137139107611548,\n",
       " 'all-mpnet-base-v2': 0.9550524934383202}"
      ]
     },
     "execution_count": 179,
     "metadata": {},
     "output_type": "execute_result"
    }
   ],
   "source": [
    "# Резульаты близкие с первому (лучшему варианту), но процесс длится заметно дольше\n",
    "metrics"
   ]
  },
  {
   "cell_type": "markdown",
   "metadata": {},
   "source": [
    "# SentenceTransformer(\"all-MiniLM-L12-v2\")"
   ]
  },
  {
   "cell_type": "code",
   "execution_count": 180,
   "metadata": {},
   "outputs": [
    {
     "data": {
      "application/vnd.jupyter.widget-view+json": {
       "model_id": "ac1eb405087842aeac1f238faaeec997",
       "version_major": 2,
       "version_minor": 0
      },
      "text/plain": [
       "Batches:   0%|          | 0/191 [00:00<?, ?it/s]"
      ]
     },
     "metadata": {},
     "output_type": "display_data"
    },
    {
     "data": {
      "application/vnd.jupyter.widget-view+json": {
       "model_id": "9de15e36455843158d771b9f3e8a9959",
       "version_major": 2,
       "version_minor": 0
      },
      "text/plain": [
       "Batches:   0%|          | 0/191 [00:00<?, ?it/s]"
      ]
     },
     "metadata": {},
     "output_type": "display_data"
    }
   ],
   "source": [
    "model = SentenceTransformer(\"all-MiniLM-L12-v2\")\n",
    "embeddings_1 = model.encode(corpus['question_1'], show_progress_bar=True)\n",
    "embeddings_2 = model.encode(corpus['question_2'], show_progress_bar=True)\n",
    "\n",
    "cosine_scores = cos_sim(embeddings_1, embeddings_2)\n",
    "metrics['all-MiniLM-L12-v2'] = top_n_accuracy(cosine_scores, labels_diag_matrix, cnt_ones, indexes_ones)"
   ]
  },
  {
   "cell_type": "code",
   "execution_count": 181,
   "metadata": {},
   "outputs": [
    {
     "data": {
      "text/plain": [
       "{'all-MiniLM-L6-v2': 0.9560367454068242,\n",
       " 'paraphrase-MiniLM-L6-v2': 0.9137139107611548,\n",
       " 'all-mpnet-base-v2': 0.9550524934383202,\n",
       " 'all-MiniLM-L12-v2': 0.9507874015748031}"
      ]
     },
     "execution_count": 181,
     "metadata": {},
     "output_type": "execute_result"
    }
   ],
   "source": [
    "metrics"
   ]
  },
  {
   "cell_type": "markdown",
   "metadata": {},
   "source": [
    "# TfidfVectorizer"
   ]
  },
  {
   "cell_type": "code",
   "execution_count": 182,
   "metadata": {},
   "outputs": [],
   "source": [
    "# Посчитаем с использованием стоп-слов\n",
    "vectorizer = TfidfVectorizer(stop_words='english')\n",
    "vector_1 = vectorizer.fit_transform(corpus['question_1'])\n",
    "vector_2 = vectorizer.transform(corpus['question_2'])\n",
    "\n",
    "cosine_scores = cos_sim(vector_1, vector_2)\n",
    "metrics['TfidfVectorizer_stopwords'] = top_n_accuracy(cosine_scores, labels_diag_matrix, cnt_ones, indexes_ones)\n",
    "\n",
    "# Посчитаем без использования стоп-слов\n",
    "vectorizer = TfidfVectorizer()\n",
    "vector_1 = vectorizer.fit_transform(corpus['question_1'])\n",
    "vector_2 = vectorizer.transform(corpus['question_2'])\n",
    "\n",
    "cosine_scores = cos_sim(vector_1, vector_2)\n",
    "metrics['TfidfVectorizer'] = top_n_accuracy(cosine_scores, labels_diag_matrix, cnt_ones, indexes_ones)"
   ]
  },
  {
   "cell_type": "code",
   "execution_count": 183,
   "metadata": {},
   "outputs": [
    {
     "data": {
      "text/plain": [
       "{'all-MiniLM-L6-v2': 0.9560367454068242,\n",
       " 'paraphrase-MiniLM-L6-v2': 0.9137139107611548,\n",
       " 'all-mpnet-base-v2': 0.9550524934383202,\n",
       " 'all-MiniLM-L12-v2': 0.9507874015748031,\n",
       " 'TfidfVectorizer_stopwords': 0.8346456692913385,\n",
       " 'TfidfVectorizer': 0.8441601049868767}"
      ]
     },
     "execution_count": 183,
     "metadata": {},
     "output_type": "execute_result"
    }
   ],
   "source": [
    "metrics"
   ]
  },
  {
   "cell_type": "markdown",
   "metadata": {},
   "source": [
    "# CountVectorizer()"
   ]
  },
  {
   "cell_type": "code",
   "execution_count": 185,
   "metadata": {},
   "outputs": [],
   "source": [
    "# Посчитаем с использованием стоп-слов\n",
    "vectorizer = CountVectorizer(stop_words='english')\n",
    "vector_1 = vectorizer.fit_transform(corpus['question_1'])\n",
    "vector_2 = vectorizer.transform(corpus['question_2'])\n",
    "\n",
    "cosine_scores = cos_sim(vector_1, vector_2)\n",
    "metrics['CountVectorizer_stopwords'] = top_n_accuracy(cosine_scores, labels_diag_matrix, cnt_ones, indexes_ones)\n",
    "\n",
    "# Посчитаем без использования стоп-слов\n",
    "vectorizer = CountVectorizer()\n",
    "vector_1 = vectorizer.fit_transform(corpus['question_1'])\n",
    "vector_2 = vectorizer.transform(corpus['question_2'])\n",
    "\n",
    "cosine_scores = cos_sim(vector_1, vector_2)\n",
    "metrics['CountVectorizer'] = top_n_accuracy(cosine_scores, labels_diag_matrix, cnt_ones, indexes_ones)"
   ]
  },
  {
   "cell_type": "code",
   "execution_count": 186,
   "metadata": {},
   "outputs": [
    {
     "data": {
      "text/plain": [
       "{'all-MiniLM-L6-v2': 0.9560367454068242,\n",
       " 'paraphrase-MiniLM-L6-v2': 0.9137139107611548,\n",
       " 'all-mpnet-base-v2': 0.9550524934383202,\n",
       " 'all-MiniLM-L12-v2': 0.9507874015748031,\n",
       " 'TfidfVectorizer_stopwords': 0.8346456692913385,\n",
       " 'TfidfVectorizer': 0.8441601049868767,\n",
       " 'CountVectorizer_stopwords': 0.7811679790026247,\n",
       " 'CountVectorizer': 0.5485564304461942}"
      ]
     },
     "execution_count": 186,
     "metadata": {},
     "output_type": "execute_result"
    }
   ],
   "source": [
    "metrics"
   ]
  },
  {
   "cell_type": "markdown",
   "metadata": {},
   "source": [
    "# Итоги"
   ]
  },
  {
   "cell_type": "code",
   "execution_count": 187,
   "metadata": {},
   "outputs": [
    {
     "data": {
      "image/png": "[encoded data removed]",
      "text/plain": [
       "<Figure size 2000x400 with 1 Axes>"
      ]
     },
     "metadata": {},
     "output_type": "display_data"
    }
   ],
   "source": [
    "metrics_sorted = dict(sorted(metrics.items(), key=lambda item: item[1]))\n",
    "plt.figure(figsize=(20, 4))\n",
    "plt.barh(list(metrics_sorted.keys()), list(metrics_sorted.values()))\n",
    "plt.xlabel('Точность')\n",
    "plt.ylabel('Энкодеры')\n",
    "for i, v in enumerate(metrics_sorted.values()):\n",
    "    plt.text(v, i, str(round(v,3)), ha='left', va='center')\n",
    "plt.xlim(0.5)\n",
    "plt.grid()\n",
    "plt.show()"
   ]
  }
 ],
 "metadata": {
  "kernelspec": {
   "display_name": ".venv",
   "language": "python",
   "name": "python3"
  },
  "language_info": {
   "codemirror_mode": {
    "name": "ipython",
    "version": 3
   },
   "file_extension": ".py",
   "mimetype": "text/x-python",
   "name": "python",
   "nbconvert_exporter": "python",
   "pygments_lexer": "ipython3",
   "version": "3.10.0"
  }
 },
 "nbformat": 4,
 "nbformat_minor": 2
}
